{
  "nbformat": 4,
  "nbformat_minor": 0,
  "metadata": {
    "colab": {
      "name": "Plots.ipynb",
      "provenance": [],
      "collapsed_sections": []
    },
    "kernelspec": {
      "name": "python3",
      "display_name": "Python 3"
    },
    "language_info": {
      "name": "python"
    }
  },
  "cells": [
    {
      "cell_type": "code",
      "metadata": {
        "id": "x5x7VW18bQvY"
      },
      "source": [
        "import json"
      ],
      "execution_count": 1,
      "outputs": []
    },
    {
      "cell_type": "code",
      "source": [
        "from google.colab import drive\n",
        "drive.mount('/content/drive')"
      ],
      "metadata": {
        "id": "6IJNjKn1KgKU",
        "outputId": "5085a24f-df31-4166-e755-169f156f97b5",
        "colab": {
          "base_uri": "https://localhost:8080/"
        }
      },
      "execution_count": 2,
      "outputs": [
        {
          "output_type": "stream",
          "name": "stdout",
          "text": [
            "Mounted at /content/drive\n"
          ]
        }
      ]
    },
    {
      "cell_type": "code",
      "metadata": {
        "id": "62OULTMBXxFl"
      },
      "source": [
        "\n",
        "file = open('/content/drive/MyDrive/TFIDF/all_TR_TOPICS_STANCE_50638.json','r')\n",
        "tweets = json.load(file)"
      ],
      "execution_count": 3,
      "outputs": []
    },
    {
      "cell_type": "code",
      "metadata": {
        "colab": {
          "base_uri": "https://localhost:8080/"
        },
        "id": "P7vhOkcEbYWz",
        "outputId": "565a813b-95b5-43d6-ef5b-03725eaf4366"
      },
      "source": [
        "poi = []\n",
        "for tweet in tweets:\n",
        "  poi.append(tweet['poi_name'])\n",
        "pois = set(poi)\n",
        "print(pois)\n",
        "#US = 'SenTedCruz', 'POTUS'\n",
        "#Mexico = caroviggiano, lopezobrador_\n",
        "#India = 'AmitShah', narendramodi"
      ],
      "execution_count": 4,
      "outputs": [
        {
          "output_type": "stream",
          "name": "stdout",
          "text": [
            "{'', 'GavinNewsom', 'POTUS', 'smritiirani', 'narendramodi', 'SSalud_mx', 'SpeakerPelosi', 'VicenteFoxQue', 'caroviggiano', 'Claudiashein', 'ArvindKejriwal', 'CDCgov', 'AmitShah', 'lopezobrador_', 'MoHFW_INDIA', 'SenTedCruz'}\n"
          ]
        }
      ]
    },
    {
      "cell_type": "code",
      "metadata": {
        "colab": {
          "base_uri": "https://localhost:8080/"
        },
        "id": "-Zy4ULaffZ3d",
        "outputId": "56f0acf1-598c-442b-baa2-71c25b7460c6"
      },
      "source": [
        "#number of pro stances of public in each country \n",
        "pro_india = []\n",
        "pro_mexico = []\n",
        "pro_usa = []\n",
        "for tweet in tweets:\n",
        "  if tweet[\"country\"] == 'MEXICO' and tweet['Stance'] == 'pro':\n",
        "    pro_mexico.append(tweet)\n",
        "  elif tweet[\"country\"] == 'INDIA' and tweet['Stance'] == 'pro':\n",
        "    pro_india.append(tweet)\n",
        "  elif tweet[\"country\"] == 'USA' and tweet['Stance'] == 'pro':\n",
        "    pro_usa.append(tweet)\n",
        "\n",
        "print(len(pro_india), len(pro_mexico), len(pro_usa))\n",
        "\n",
        "#Againsts\n",
        "against_india = []\n",
        "against_mexico = []\n",
        "against_usa = []\n",
        "for tweet in tweets:\n",
        "  if tweet[\"country\"] == 'MEXICO' and tweet['Stance'] == 'against':\n",
        "    against_mexico.append(tweet)\n",
        "  elif tweet[\"country\"] == 'INDIA' and tweet['Stance'] == 'against':\n",
        "    against_india.append(tweet)\n",
        "  elif tweet[\"country\"] == 'USA' and tweet['Stance'] == 'against':\n",
        "    against_usa.append(tweet)\n",
        "\n",
        "print(len(against_india), len(against_mexico), len(against_usa))\n",
        "\n",
        "# Neutral\n",
        "neutral_india = []\n",
        "neutral_mexico = []\n",
        "neutral_usa = []\n",
        "for tweet in tweets:\n",
        "  if tweet[\"country\"] == 'MEXICO' and tweet['Stance'] == 'neutral':\n",
        "    neutral_mexico.append(tweet)\n",
        "  elif tweet[\"country\"] == 'INDIA' and tweet['Stance'] == 'neutral':\n",
        "    neutral_india.append(tweet)\n",
        "  elif tweet[\"country\"] == 'USA' and tweet['Stance'] == 'neutral':\n",
        "    neutral_usa.append(tweet)\n",
        "\n",
        "print(len(neutral_india), len(neutral_mexico), len(neutral_usa))"
      ],
      "execution_count": 5,
      "outputs": [
        {
          "output_type": "stream",
          "name": "stdout",
          "text": [
            "770 581 807\n",
            "295 691 1070\n",
            "616 627 1001\n"
          ]
        }
      ]
    },
    {
      "cell_type": "code",
      "metadata": {
        "colab": {
          "base_uri": "https://localhost:8080/"
        },
        "id": "i-vXDrz9jS6l",
        "outputId": "4aa4e074-d039-4748-a2af-5fa0152a1dd9"
      },
      "source": [
        "\n",
        "#Stance of pois\n",
        "us1pro = []\n",
        "mex1pro = []\n",
        "ind1pro = []\n",
        "us1against = []\n",
        "mex1against = []\n",
        "ind1against = []\n",
        "us1neutral = []\n",
        "mex1neutral = []\n",
        "ind1neutral=[]\n",
        "\n",
        "mex_pois = ['caroviggiano', 'lopezobrador_', 'caroviggiano', 'SSalud_mx', 'VicenteFoxQue', 'Claudiashein']\n",
        "ind_pois = ['narendramodi', 'AmitShah', 'ArvindKejriwal', 'MoHFW_INDIA', 'smritiirani', 'VicenteFoxQue']\n",
        "us_pois = ['SenTedCruz', 'POTUS', 'GavinNewsom', 'CDCgov', 'SpeakerPelosi']\n",
        "\n",
        "for tweet in tweets:\n",
        "  if tweet['poi_name'] in us_pois and tweet['Stance'] == 'pro':\n",
        "    us1pro.append(tweet)\n",
        "  if tweet['poi_name'] in us_pois and tweet['Stance'] == 'against':\n",
        "    us1against.append(tweet)\n",
        "  if tweet['poi_name'] in us_pois and tweet['Stance'] == 'neutral':\n",
        "    us1neutral.append(tweet)\n",
        "  if tweet['poi_name'] in mex_pois and tweet['Stance'] == 'pro':\n",
        "    mex1pro.append(tweet)\n",
        "  if tweet['poi_name'] in mex_pois and tweet['Stance'] == 'against':\n",
        "    mex1against.append(tweet)\n",
        "  if tweet['poi_name'] in mex_pois and tweet['Stance'] == 'neutral':\n",
        "    mex1neutral.append(tweet)\n",
        "  if tweet['poi_name'] in ind_pois and tweet['Stance'] == 'pro':\n",
        "    ind1pro.append(tweet)\n",
        "  if tweet['poi_name'] in ind_pois and tweet['Stance'] == 'against':\n",
        "    ind1against.append(tweet)\n",
        "  if tweet['poi_name'] in ind_pois and tweet['Stance'] == 'neutral':\n",
        "    ind1neutral.append(tweet)\n",
        "\n",
        "print('POIS', 'us','mex','india')\n",
        "print(len(us1pro),len(mex1pro),len(ind1pro))\n",
        "print(len(us1against),len(mex1against),len(ind1against))\n",
        "print(len(us1neutral),len(mex1neutral),len(ind1neutral))"
      ],
      "execution_count": 6,
      "outputs": [
        {
          "output_type": "stream",
          "name": "stdout",
          "text": [
            "POIS us mex india\n",
            "203 92 232\n",
            "41 12 13\n",
            "134 54 121\n"
          ]
        }
      ]
    },
    {
      "cell_type": "code",
      "source": [
        "print('public', 'usa', 'mex', 'india')\n",
        "print(len(pro_usa), len(pro_mexico), len(pro_india))\n",
        "print(len(against_usa), len(against_mexico), len(against_india))\n",
        "print(len(neutral_usa), len(neutral_mexico), len(neutral_india))"
      ],
      "metadata": {
        "colab": {
          "base_uri": "https://localhost:8080/"
        },
        "id": "vdniQEu1kscN",
        "outputId": "f640be0f-059a-4504-ce14-560f36e1203c"
      },
      "execution_count": 7,
      "outputs": [
        {
          "output_type": "stream",
          "name": "stdout",
          "text": [
            "public usa mex india\n",
            "807 581 770\n",
            "1070 691 295\n",
            "1001 627 616\n"
          ]
        }
      ]
    },
    {
      "cell_type": "code",
      "metadata": {
        "colab": {
          "base_uri": "https://localhost:8080/",
          "height": 542
        },
        "id": "RBdMGMLTpEjR",
        "outputId": "f7ad9727-c926-4412-a9d1-794cdda0d287"
      },
      "source": [
        "import plotly.graph_objects as go\n",
        "\n",
        "fig = go.Figure()\n",
        "fig.add_trace(go.Bar(\n",
        "    y=['US_POI', 'US_Public', 'Mex_POI', 'Mex_Public', 'India_POI', 'India_Public'],\n",
        "    x=[203, 807, 92, 581, 232, 770],\n",
        "    name='Pro',\n",
        "    orientation='h',\n",
        "    marker=dict(\n",
        "        color='rgba(31, 194, 241, 0.5)',\n",
        "        line=dict(color='rgba(31, 194, 241, 1)',  width=2)\n",
        "    )\n",
        "))\n",
        "fig.add_trace(go.Bar(\n",
        "    y=['US_POI', 'US_Public', 'Mex_POI', 'Mex_Public', 'India_POI', 'India_Public'],\n",
        "    x=[134, 1001, 54, 627, 121, 616],\n",
        "    name='Neutral',\n",
        "    orientation='h',\n",
        "    marker=dict(\n",
        "        color='rgba(255, 235, 53, 0.5)',\n",
        "        line=dict(color='rgba(245, 229, 53, 0.5)', width=2)\n",
        "    )\n",
        "))\n",
        "fig.add_trace(go.Bar(\n",
        "    y=['US_POI', 'US_Public', 'Mex_POI', 'Mex_Public', 'India_POI', 'India_Public'],\n",
        "    x=[41, 1070, 12, 691, 13, 295],\n",
        "    name='Against',\n",
        "    orientation='h',\n",
        "    marker=dict(\n",
        "        color='red', opacity=0.5,\n",
        "        line=dict(color='rgba(244, 71, 80, 0.8)', width=2)\n",
        "    )\n",
        "))\n",
        "\n",
        "\n",
        "fig.update_layout(barmode='stack')\n",
        "fig.show()\n",
        "fig.write_html(\"/content/drive/MyDrive/TFIDF/bar.html\")"
      ],
      "execution_count": 9,
      "outputs": [
        {
          "output_type": "display_data",
          "data": {
            "text/html": [
              "<html>\n",
              "<head><meta charset=\"utf-8\" /></head>\n",
              "<body>\n",
              "    <div>\n",
              "            <script src=\"https://cdnjs.cloudflare.com/ajax/libs/mathjax/2.7.5/MathJax.js?config=TeX-AMS-MML_SVG\"></script><script type=\"text/javascript\">if (window.MathJax) {MathJax.Hub.Config({SVG: {font: \"STIX-Web\"}});}</script>\n",
              "                <script type=\"text/javascript\">window.PlotlyConfig = {MathJaxConfig: 'local'};</script>\n",
              "        <script src=\"https://cdn.plot.ly/plotly-latest.min.js\"></script>    \n",
              "            <div id=\"7c298a0e-a593-4e19-b4dd-6a6ba92a2358\" class=\"plotly-graph-div\" style=\"height:525px; width:100%;\"></div>\n",
              "            <script type=\"text/javascript\">\n",
              "                \n",
              "                    window.PLOTLYENV=window.PLOTLYENV || {};\n",
              "                    \n",
              "                if (document.getElementById(\"7c298a0e-a593-4e19-b4dd-6a6ba92a2358\")) {\n",
              "                    Plotly.newPlot(\n",
              "                        '7c298a0e-a593-4e19-b4dd-6a6ba92a2358',\n",
              "                        [{\"marker\": {\"color\": \"rgba(31, 194, 241, 0.5)\", \"line\": {\"color\": \"rgba(31, 194, 241, 1)\", \"width\": 2}}, \"name\": \"Pro\", \"orientation\": \"h\", \"type\": \"bar\", \"x\": [203, 807, 92, 581, 232, 770], \"y\": [\"US_POI\", \"US_Public\", \"Mex_POI\", \"Mex_Public\", \"India_POI\", \"India_Public\"]}, {\"marker\": {\"color\": \"rgba(255, 235, 53, 0.5)\", \"line\": {\"color\": \"rgba(245, 229, 53, 0.5)\", \"width\": 2}}, \"name\": \"Neutral\", \"orientation\": \"h\", \"type\": \"bar\", \"x\": [134, 1001, 54, 627, 121, 616], \"y\": [\"US_POI\", \"US_Public\", \"Mex_POI\", \"Mex_Public\", \"India_POI\", \"India_Public\"]}, {\"marker\": {\"color\": \"red\", \"line\": {\"color\": \"rgba(244, 71, 80, 0.8)\", \"width\": 2}, \"opacity\": 0.5}, \"name\": \"Against\", \"orientation\": \"h\", \"type\": \"bar\", \"x\": [41, 1070, 12, 691, 13, 295], \"y\": [\"US_POI\", \"US_Public\", \"Mex_POI\", \"Mex_Public\", \"India_POI\", \"India_Public\"]}],\n",
              "                        {\"barmode\": \"stack\", \"template\": {\"data\": {\"bar\": [{\"error_x\": {\"color\": \"#2a3f5f\"}, \"error_y\": {\"color\": \"#2a3f5f\"}, \"marker\": {\"line\": {\"color\": \"#E5ECF6\", \"width\": 0.5}}, \"type\": \"bar\"}], \"barpolar\": [{\"marker\": {\"line\": {\"color\": \"#E5ECF6\", \"width\": 0.5}}, \"type\": \"barpolar\"}], \"carpet\": [{\"aaxis\": {\"endlinecolor\": \"#2a3f5f\", \"gridcolor\": \"white\", \"linecolor\": \"white\", \"minorgridcolor\": \"white\", \"startlinecolor\": \"#2a3f5f\"}, \"baxis\": {\"endlinecolor\": \"#2a3f5f\", \"gridcolor\": \"white\", \"linecolor\": \"white\", \"minorgridcolor\": \"white\", \"startlinecolor\": \"#2a3f5f\"}, \"type\": \"carpet\"}], \"choropleth\": [{\"colorbar\": {\"outlinewidth\": 0, \"ticks\": \"\"}, \"type\": \"choropleth\"}], \"contour\": [{\"colorbar\": {\"outlinewidth\": 0, \"ticks\": \"\"}, \"colorscale\": [[0.0, \"#0d0887\"], [0.1111111111111111, \"#46039f\"], [0.2222222222222222, \"#7201a8\"], [0.3333333333333333, \"#9c179e\"], [0.4444444444444444, \"#bd3786\"], [0.5555555555555556, \"#d8576b\"], [0.6666666666666666, \"#ed7953\"], [0.7777777777777778, \"#fb9f3a\"], [0.8888888888888888, \"#fdca26\"], [1.0, \"#f0f921\"]], \"type\": \"contour\"}], \"contourcarpet\": [{\"colorbar\": {\"outlinewidth\": 0, \"ticks\": \"\"}, \"type\": \"contourcarpet\"}], \"heatmap\": [{\"colorbar\": {\"outlinewidth\": 0, \"ticks\": \"\"}, \"colorscale\": [[0.0, \"#0d0887\"], [0.1111111111111111, \"#46039f\"], [0.2222222222222222, \"#7201a8\"], [0.3333333333333333, \"#9c179e\"], [0.4444444444444444, \"#bd3786\"], [0.5555555555555556, \"#d8576b\"], [0.6666666666666666, \"#ed7953\"], [0.7777777777777778, \"#fb9f3a\"], [0.8888888888888888, \"#fdca26\"], [1.0, \"#f0f921\"]], \"type\": \"heatmap\"}], \"heatmapgl\": [{\"colorbar\": {\"outlinewidth\": 0, \"ticks\": \"\"}, \"colorscale\": [[0.0, \"#0d0887\"], [0.1111111111111111, \"#46039f\"], [0.2222222222222222, \"#7201a8\"], [0.3333333333333333, \"#9c179e\"], [0.4444444444444444, \"#bd3786\"], [0.5555555555555556, \"#d8576b\"], [0.6666666666666666, \"#ed7953\"], [0.7777777777777778, \"#fb9f3a\"], [0.8888888888888888, \"#fdca26\"], [1.0, \"#f0f921\"]], \"type\": \"heatmapgl\"}], \"histogram\": [{\"marker\": {\"colorbar\": {\"outlinewidth\": 0, \"ticks\": \"\"}}, \"type\": \"histogram\"}], \"histogram2d\": [{\"colorbar\": {\"outlinewidth\": 0, \"ticks\": \"\"}, \"colorscale\": [[0.0, \"#0d0887\"], [0.1111111111111111, \"#46039f\"], [0.2222222222222222, \"#7201a8\"], [0.3333333333333333, \"#9c179e\"], [0.4444444444444444, \"#bd3786\"], [0.5555555555555556, \"#d8576b\"], [0.6666666666666666, \"#ed7953\"], [0.7777777777777778, \"#fb9f3a\"], [0.8888888888888888, \"#fdca26\"], [1.0, \"#f0f921\"]], \"type\": \"histogram2d\"}], \"histogram2dcontour\": [{\"colorbar\": {\"outlinewidth\": 0, \"ticks\": \"\"}, \"colorscale\": [[0.0, \"#0d0887\"], [0.1111111111111111, \"#46039f\"], [0.2222222222222222, \"#7201a8\"], [0.3333333333333333, \"#9c179e\"], [0.4444444444444444, \"#bd3786\"], [0.5555555555555556, \"#d8576b\"], [0.6666666666666666, \"#ed7953\"], [0.7777777777777778, \"#fb9f3a\"], [0.8888888888888888, \"#fdca26\"], [1.0, \"#f0f921\"]], \"type\": \"histogram2dcontour\"}], \"mesh3d\": [{\"colorbar\": {\"outlinewidth\": 0, \"ticks\": \"\"}, \"type\": \"mesh3d\"}], \"parcoords\": [{\"line\": {\"colorbar\": {\"outlinewidth\": 0, \"ticks\": \"\"}}, \"type\": \"parcoords\"}], \"pie\": [{\"automargin\": true, \"type\": \"pie\"}], \"scatter\": [{\"marker\": {\"colorbar\": {\"outlinewidth\": 0, \"ticks\": \"\"}}, \"type\": \"scatter\"}], \"scatter3d\": [{\"line\": {\"colorbar\": {\"outlinewidth\": 0, \"ticks\": \"\"}}, \"marker\": {\"colorbar\": {\"outlinewidth\": 0, \"ticks\": \"\"}}, \"type\": \"scatter3d\"}], \"scattercarpet\": [{\"marker\": {\"colorbar\": {\"outlinewidth\": 0, \"ticks\": \"\"}}, \"type\": \"scattercarpet\"}], \"scattergeo\": [{\"marker\": {\"colorbar\": {\"outlinewidth\": 0, \"ticks\": \"\"}}, \"type\": \"scattergeo\"}], \"scattergl\": [{\"marker\": {\"colorbar\": {\"outlinewidth\": 0, \"ticks\": \"\"}}, \"type\": \"scattergl\"}], \"scattermapbox\": [{\"marker\": {\"colorbar\": {\"outlinewidth\": 0, \"ticks\": \"\"}}, \"type\": \"scattermapbox\"}], \"scatterpolar\": [{\"marker\": {\"colorbar\": {\"outlinewidth\": 0, \"ticks\": \"\"}}, \"type\": \"scatterpolar\"}], \"scatterpolargl\": [{\"marker\": {\"colorbar\": {\"outlinewidth\": 0, \"ticks\": \"\"}}, \"type\": \"scatterpolargl\"}], \"scatterternary\": [{\"marker\": {\"colorbar\": {\"outlinewidth\": 0, \"ticks\": \"\"}}, \"type\": \"scatterternary\"}], \"surface\": [{\"colorbar\": {\"outlinewidth\": 0, \"ticks\": \"\"}, \"colorscale\": [[0.0, \"#0d0887\"], [0.1111111111111111, \"#46039f\"], [0.2222222222222222, \"#7201a8\"], [0.3333333333333333, \"#9c179e\"], [0.4444444444444444, \"#bd3786\"], [0.5555555555555556, \"#d8576b\"], [0.6666666666666666, \"#ed7953\"], [0.7777777777777778, \"#fb9f3a\"], [0.8888888888888888, \"#fdca26\"], [1.0, \"#f0f921\"]], \"type\": \"surface\"}], \"table\": [{\"cells\": {\"fill\": {\"color\": \"#EBF0F8\"}, \"line\": {\"color\": \"white\"}}, \"header\": {\"fill\": {\"color\": \"#C8D4E3\"}, \"line\": {\"color\": \"white\"}}, \"type\": \"table\"}]}, \"layout\": {\"annotationdefaults\": {\"arrowcolor\": \"#2a3f5f\", \"arrowhead\": 0, \"arrowwidth\": 1}, \"coloraxis\": {\"colorbar\": {\"outlinewidth\": 0, \"ticks\": \"\"}}, \"colorscale\": {\"diverging\": [[0, \"#8e0152\"], [0.1, \"#c51b7d\"], [0.2, \"#de77ae\"], [0.3, \"#f1b6da\"], [0.4, \"#fde0ef\"], [0.5, \"#f7f7f7\"], [0.6, \"#e6f5d0\"], [0.7, \"#b8e186\"], [0.8, \"#7fbc41\"], [0.9, \"#4d9221\"], [1, \"#276419\"]], \"sequential\": [[0.0, \"#0d0887\"], [0.1111111111111111, \"#46039f\"], [0.2222222222222222, \"#7201a8\"], [0.3333333333333333, \"#9c179e\"], [0.4444444444444444, \"#bd3786\"], [0.5555555555555556, \"#d8576b\"], [0.6666666666666666, \"#ed7953\"], [0.7777777777777778, \"#fb9f3a\"], [0.8888888888888888, \"#fdca26\"], [1.0, \"#f0f921\"]], \"sequentialminus\": [[0.0, \"#0d0887\"], [0.1111111111111111, \"#46039f\"], [0.2222222222222222, \"#7201a8\"], [0.3333333333333333, \"#9c179e\"], [0.4444444444444444, \"#bd3786\"], [0.5555555555555556, \"#d8576b\"], [0.6666666666666666, \"#ed7953\"], [0.7777777777777778, \"#fb9f3a\"], [0.8888888888888888, \"#fdca26\"], [1.0, \"#f0f921\"]]}, \"colorway\": [\"#636efa\", \"#EF553B\", \"#00cc96\", \"#ab63fa\", \"#FFA15A\", \"#19d3f3\", \"#FF6692\", \"#B6E880\", \"#FF97FF\", \"#FECB52\"], \"font\": {\"color\": \"#2a3f5f\"}, \"geo\": {\"bgcolor\": \"white\", \"lakecolor\": \"white\", \"landcolor\": \"#E5ECF6\", \"showlakes\": true, \"showland\": true, \"subunitcolor\": \"white\"}, \"hoverlabel\": {\"align\": \"left\"}, \"hovermode\": \"closest\", \"mapbox\": {\"style\": \"light\"}, \"paper_bgcolor\": \"white\", \"plot_bgcolor\": \"#E5ECF6\", \"polar\": {\"angularaxis\": {\"gridcolor\": \"white\", \"linecolor\": \"white\", \"ticks\": \"\"}, \"bgcolor\": \"#E5ECF6\", \"radialaxis\": {\"gridcolor\": \"white\", \"linecolor\": \"white\", \"ticks\": \"\"}}, \"scene\": {\"xaxis\": {\"backgroundcolor\": \"#E5ECF6\", \"gridcolor\": \"white\", \"gridwidth\": 2, \"linecolor\": \"white\", \"showbackground\": true, \"ticks\": \"\", \"zerolinecolor\": \"white\"}, \"yaxis\": {\"backgroundcolor\": \"#E5ECF6\", \"gridcolor\": \"white\", \"gridwidth\": 2, \"linecolor\": \"white\", \"showbackground\": true, \"ticks\": \"\", \"zerolinecolor\": \"white\"}, \"zaxis\": {\"backgroundcolor\": \"#E5ECF6\", \"gridcolor\": \"white\", \"gridwidth\": 2, \"linecolor\": \"white\", \"showbackground\": true, \"ticks\": \"\", \"zerolinecolor\": \"white\"}}, \"shapedefaults\": {\"line\": {\"color\": \"#2a3f5f\"}}, \"ternary\": {\"aaxis\": {\"gridcolor\": \"white\", \"linecolor\": \"white\", \"ticks\": \"\"}, \"baxis\": {\"gridcolor\": \"white\", \"linecolor\": \"white\", \"ticks\": \"\"}, \"bgcolor\": \"#E5ECF6\", \"caxis\": {\"gridcolor\": \"white\", \"linecolor\": \"white\", \"ticks\": \"\"}}, \"title\": {\"x\": 0.05}, \"xaxis\": {\"automargin\": true, \"gridcolor\": \"white\", \"linecolor\": \"white\", \"ticks\": \"\", \"title\": {\"standoff\": 15}, \"zerolinecolor\": \"white\", \"zerolinewidth\": 2}, \"yaxis\": {\"automargin\": true, \"gridcolor\": \"white\", \"linecolor\": \"white\", \"ticks\": \"\", \"title\": {\"standoff\": 15}, \"zerolinecolor\": \"white\", \"zerolinewidth\": 2}}}},\n",
              "                        {\"responsive\": true}\n",
              "                    ).then(function(){\n",
              "                            \n",
              "var gd = document.getElementById('7c298a0e-a593-4e19-b4dd-6a6ba92a2358');\n",
              "var x = new MutationObserver(function (mutations, observer) {{\n",
              "        var display = window.getComputedStyle(gd).display;\n",
              "        if (!display || display === 'none') {{\n",
              "            console.log([gd, 'removed!']);\n",
              "            Plotly.purge(gd);\n",
              "            observer.disconnect();\n",
              "        }}\n",
              "}});\n",
              "\n",
              "// Listen for the removal of the full notebook cells\n",
              "var notebookContainer = gd.closest('#notebook-container');\n",
              "if (notebookContainer) {{\n",
              "    x.observe(notebookContainer, {childList: true});\n",
              "}}\n",
              "\n",
              "// Listen for the clearing of the current output cell\n",
              "var outputEl = gd.closest('.output');\n",
              "if (outputEl) {{\n",
              "    x.observe(outputEl, {childList: true});\n",
              "}}\n",
              "\n",
              "                        })\n",
              "                };\n",
              "                \n",
              "            </script>\n",
              "        </div>\n",
              "</body>\n",
              "</html>"
            ]
          },
          "metadata": {}
        }
      ]
    }
  ]
}
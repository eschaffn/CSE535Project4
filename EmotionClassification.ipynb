{
 "cells": [
  {
   "cell_type": "markdown",
   "id": "22a3e36d",
   "metadata": {},
   "source": [
    "# IR Project 4"
   ]
  },
  {
   "cell_type": "markdown",
   "id": "f5b28b7d",
   "metadata": {},
   "source": [
    "## Emotion Classification"
   ]
  },
  {
   "cell_type": "code",
   "execution_count": 46,
   "id": "5ceeed26",
   "metadata": {},
   "outputs": [],
   "source": [
    "#Adapted from https://www.geeksforgeeks.org/emotion-classification-using-nrc-lexicon-in-python/"
   ]
  },
  {
   "cell_type": "code",
   "execution_count": 5,
   "id": "def1522f",
   "metadata": {},
   "outputs": [],
   "source": [
    "#!pip install nrclex"
   ]
  },
  {
   "cell_type": "code",
   "execution_count": 22,
   "id": "acbdc18d",
   "metadata": {},
   "outputs": [
    {
     "name": "stderr",
     "output_type": "stream",
     "text": [
      "[nltk_data] Downloading package stopwords to /Users/maga/nltk_data...\n",
      "[nltk_data]   Package stopwords is already up-to-date!\n"
     ]
    }
   ],
   "source": [
    "# Import libraries\n",
    "import json\n",
    "import re\n",
    "import nltk\n",
    "from nltk.corpus import stopwords\n",
    "nltk.download('stopwords')\n",
    "import demoji\n",
    "from nrclex import NRCLex \n",
    "import pandas as pd"
   ]
  },
  {
   "cell_type": "code",
   "execution_count": 8,
   "id": "a3fc1652",
   "metadata": {},
   "outputs": [],
   "source": [
    "# Load data\n",
    "infile = open('tweets.json','rb')\n",
    "tweets = json.load(infile)\n",
    "infile.close()"
   ]
  },
  {
   "cell_type": "code",
   "execution_count": 27,
   "id": "e76ace2e",
   "metadata": {},
   "outputs": [],
   "source": [
    "# Function to remove stopwords\n",
    "def remove_stopwords(text, lang): \n",
    "    text_wo_stopwords = []\n",
    "    # remove stopwords   \n",
    "    if lang == 'en':\n",
    "        stop_words = set(stopwords.words('english'))\n",
    "    else:\n",
    "        stop_words = set(stopwords.words('spanish'))\n",
    "    text = re.split('\\s',text)\n",
    "    for t in text:\n",
    "        if t not in stop_words:\n",
    "            text_wo_stopwords.append(t)\n",
    "    text_wo_stopwords = ' '.join(text_wo_stopwords)\n",
    "    return text_wo_stopwords"
   ]
  },
  {
   "cell_type": "code",
   "execution_count": 26,
   "id": "646c0ff4",
   "metadata": {},
   "outputs": [],
   "source": [
    "# Function to preprocess tweets\n",
    "def preprocess(raw_tweet,lang):\n",
    "    text = raw_tweet.lower() # convert to lowercase\n",
    "    text = re.sub('\\n',' ',text) # remove '\\n'\n",
    "    text = re.sub(r\"http\\S+\", \"\",text) # remove urls\n",
    "    text = re.sub('#',' ',text) # remove '#' but leave text from hashtag\n",
    "    text = re.sub('@[a-zA-Z]+',' ', text) # remove mentions\n",
    "    text = re.sub('^rt ',' ', text) # remove 'rt'\n",
    "    text = re.sub('[,\\.\\:\\!¡\\?\\¿\\_–-\\’\\$%|]',' ',text) # remove punctuation\n",
    "    text = re.sub('[0-9]+', ' ',text) # remove numbers\n",
    "    # emojis = list(demoji.findall(text).keys()) # in case we want to store emojis\n",
    "    text = demoji.replace(text, '')\n",
    "    text = re.sub('\\s+',' ',text) # remove extra whitespaces\n",
    "    text = re.sub('^\\s+','',text) # remove space(s) at start\n",
    "    text = re.sub('\\s+$','',text) # remove space(s) at end\n",
    "    #text = re.split('\\s',text) # tokenize in terms of white space\n",
    "    if lang == 'en' or 'es': # no stopwrods for hindi\n",
    "        text = remove_stopwords(text,lang)\n",
    "    return text"
   ]
  },
  {
   "cell_type": "code",
   "execution_count": 28,
   "id": "3f43e4c1",
   "metadata": {},
   "outputs": [],
   "source": [
    "# Extract tweets per language\n",
    "def get_tweets(tweets_dic):\n",
    "    \n",
    "    data_en, data_es, data_hi = [], [], []\n",
    "    \n",
    "    for tweet in tweets:\n",
    "        text = tweet['tweet_text']\n",
    "        if tweet['tweet_lang'] == 'en':\n",
    "            text = preprocess(text,'en')\n",
    "            data_en.append(text)\n",
    "        elif tweet['tweet_lang'] == 'es':\n",
    "            text = preprocess(text,'es')\n",
    "            data_es.append(text)\n",
    "        elif tweet['tweet_lang'] == 'hi':\n",
    "            text = preprocess(text,'hi')\n",
    "            data_hi.append(text) \n",
    "            \n",
    "    return data_en, data_es, data_hi"
   ]
  },
  {
   "cell_type": "code",
   "execution_count": 29,
   "id": "96ac0f76",
   "metadata": {},
   "outputs": [],
   "source": [
    "data_en, data_es, data_hi = get_tweets(tweets)"
   ]
  },
  {
   "cell_type": "code",
   "execution_count": 45,
   "id": "e7259759",
   "metadata": {},
   "outputs": [
    {
     "data": {
      "text/plain": [
       "'th pragati meeting today reviewed eight projects spread across ministries railways roads power pet…'"
      ]
     },
     "execution_count": 45,
     "metadata": {},
     "output_type": "execute_result"
    }
   ],
   "source": [
    "data_en[0]"
   ]
  },
  {
   "cell_type": "code",
   "execution_count": 33,
   "id": "82e19415",
   "metadata": {},
   "outputs": [],
   "source": [
    "df = pd.DataFrame(data_en, columns =['Tweets'])"
   ]
  },
  {
   "cell_type": "code",
   "execution_count": 34,
   "id": "4454f937",
   "metadata": {},
   "outputs": [
    {
     "data": {
      "text/html": [
       "<div>\n",
       "<style scoped>\n",
       "    .dataframe tbody tr th:only-of-type {\n",
       "        vertical-align: middle;\n",
       "    }\n",
       "\n",
       "    .dataframe tbody tr th {\n",
       "        vertical-align: top;\n",
       "    }\n",
       "\n",
       "    .dataframe thead th {\n",
       "        text-align: right;\n",
       "    }\n",
       "</style>\n",
       "<table border=\"1\" class=\"dataframe\">\n",
       "  <thead>\n",
       "    <tr style=\"text-align: right;\">\n",
       "      <th></th>\n",
       "      <th>Tweets</th>\n",
       "    </tr>\n",
       "  </thead>\n",
       "  <tbody>\n",
       "    <tr>\n",
       "      <th>0</th>\n",
       "      <td>th pragati meeting today reviewed eight projec...</td>\n",
       "    </tr>\n",
       "    <tr>\n",
       "      <th>1</th>\n",
       "      <td>tomorrow th november major day india uttar pra...</td>\n",
       "    </tr>\n",
       "    <tr>\n",
       "      <th>2</th>\n",
       "      <td>indeed sir lachit diwas bow courageous lachit ...</td>\n",
       "    </tr>\n",
       "    <tr>\n",
       "      <th>3</th>\n",
       "      <td>today lachit diwas pay tributes brave lachit b...</td>\n",
       "    </tr>\n",
       "    <tr>\n",
       "      <th>4</th>\n",
       "      <td>\"agenda groups transcends modi targeting india...</td>\n",
       "    </tr>\n",
       "    <tr>\n",
       "      <th>...</th>\n",
       "      <td>...</td>\n",
       "    </tr>\n",
       "    <tr>\n",
       "      <th>16050</th>\n",
       "      <td>@ walterp resist dd covid variants around time...</td>\n",
       "    </tr>\n",
       "    <tr>\n",
       "      <th>16051</th>\n",
       "      <td>heard yet doin' bojo amazing live uk fed track...</td>\n",
       "    </tr>\n",
       "    <tr>\n",
       "      <th>16052</th>\n",
       "      <td>@ lokeshsharma rajasthan coronaupdate covid ca...</td>\n",
       "    </tr>\n",
       "    <tr>\n",
       "      <th>16053</th>\n",
       "      <td>covid status report - - fightagainstcoronaviru...</td>\n",
       "    </tr>\n",
       "    <tr>\n",
       "      <th>16054</th>\n",
       "      <td>nw read humorous covid-in-florida news article...</td>\n",
       "    </tr>\n",
       "  </tbody>\n",
       "</table>\n",
       "<p>16055 rows × 1 columns</p>\n",
       "</div>"
      ],
      "text/plain": [
       "                                                  Tweets\n",
       "0      th pragati meeting today reviewed eight projec...\n",
       "1      tomorrow th november major day india uttar pra...\n",
       "2      indeed sir lachit diwas bow courageous lachit ...\n",
       "3      today lachit diwas pay tributes brave lachit b...\n",
       "4      \"agenda groups transcends modi targeting india...\n",
       "...                                                  ...\n",
       "16050  @ walterp resist dd covid variants around time...\n",
       "16051  heard yet doin' bojo amazing live uk fed track...\n",
       "16052  @ lokeshsharma rajasthan coronaupdate covid ca...\n",
       "16053  covid status report - - fightagainstcoronaviru...\n",
       "16054  nw read humorous covid-in-florida news article...\n",
       "\n",
       "[16055 rows x 1 columns]"
      ]
     },
     "execution_count": 34,
     "metadata": {},
     "output_type": "execute_result"
    }
   ],
   "source": [
    "df"
   ]
  },
  {
   "cell_type": "code",
   "execution_count": 47,
   "id": "f8630dd5",
   "metadata": {},
   "outputs": [],
   "source": [
    "# Assign emotion\n",
    "i = 0\n",
    "emotions = []\n",
    "for tweet in data_en:\n",
    "    text = ''.join(tweet)\n",
    "    emotion = NRCLex(text)\n",
    "    emotions.append(emotion.top_emotions)"
   ]
  },
  {
   "cell_type": "code",
   "execution_count": 43,
   "id": "37abcf93",
   "metadata": {},
   "outputs": [],
   "source": [
    "df['Emotions'] = emotions"
   ]
  },
  {
   "cell_type": "code",
   "execution_count": 44,
   "id": "a40e6902",
   "metadata": {},
   "outputs": [
    {
     "data": {
      "text/html": [
       "<div>\n",
       "<style scoped>\n",
       "    .dataframe tbody tr th:only-of-type {\n",
       "        vertical-align: middle;\n",
       "    }\n",
       "\n",
       "    .dataframe tbody tr th {\n",
       "        vertical-align: top;\n",
       "    }\n",
       "\n",
       "    .dataframe thead th {\n",
       "        text-align: right;\n",
       "    }\n",
       "</style>\n",
       "<table border=\"1\" class=\"dataframe\">\n",
       "  <thead>\n",
       "    <tr style=\"text-align: right;\">\n",
       "      <th></th>\n",
       "      <th>Tweets</th>\n",
       "      <th>Emotions</th>\n",
       "    </tr>\n",
       "  </thead>\n",
       "  <tbody>\n",
       "    <tr>\n",
       "      <th>0</th>\n",
       "      <td>th pragati meeting today reviewed eight projec...</td>\n",
       "      <td>[(fear, 0.0), (anger, 0.0), (anticip, 0.0), (t...</td>\n",
       "    </tr>\n",
       "    <tr>\n",
       "      <th>1</th>\n",
       "      <td>tomorrow th november major day india uttar pra...</td>\n",
       "      <td>[(positive, 0.5), (anticipation, 0.5)]</td>\n",
       "    </tr>\n",
       "    <tr>\n",
       "      <th>2</th>\n",
       "      <td>indeed sir lachit diwas bow courageous lachit ...</td>\n",
       "      <td>[(positive, 0.4444444444444444)]</td>\n",
       "    </tr>\n",
       "    <tr>\n",
       "      <th>3</th>\n",
       "      <td>today lachit diwas pay tributes brave lachit b...</td>\n",
       "      <td>[(trust, 0.25), (positive, 0.25), (joy, 0.25),...</td>\n",
       "    </tr>\n",
       "    <tr>\n",
       "      <th>4</th>\n",
       "      <td>\"agenda groups transcends modi targeting india...</td>\n",
       "      <td>[(trust, 0.5), (positive, 0.5)]</td>\n",
       "    </tr>\n",
       "  </tbody>\n",
       "</table>\n",
       "</div>"
      ],
      "text/plain": [
       "                                              Tweets  \\\n",
       "0  th pragati meeting today reviewed eight projec...   \n",
       "1  tomorrow th november major day india uttar pra...   \n",
       "2  indeed sir lachit diwas bow courageous lachit ...   \n",
       "3  today lachit diwas pay tributes brave lachit b...   \n",
       "4  \"agenda groups transcends modi targeting india...   \n",
       "\n",
       "                                            Emotions  \n",
       "0  [(fear, 0.0), (anger, 0.0), (anticip, 0.0), (t...  \n",
       "1             [(positive, 0.5), (anticipation, 0.5)]  \n",
       "2                   [(positive, 0.4444444444444444)]  \n",
       "3  [(trust, 0.25), (positive, 0.25), (joy, 0.25),...  \n",
       "4                    [(trust, 0.5), (positive, 0.5)]  "
      ]
     },
     "execution_count": 44,
     "metadata": {},
     "output_type": "execute_result"
    }
   ],
   "source": [
    "df.head()"
   ]
  },
  {
   "cell_type": "code",
   "execution_count": null,
   "id": "10274965",
   "metadata": {},
   "outputs": [],
   "source": [
    "# Using methods to classify emotion\n",
    "#print('\\n', emotion.words)\n",
    "#print('\\n', emotion.sentences)\n",
    "#print('\\n', emotion.affect_list)\n",
    "#print('\\n', emotion.affect_dict)\n",
    "#print('\\n', emotion.raw_emotion_scores)\n",
    "print('\\n', emotion.top_emotions)\n",
    "#print('\\n', emotion.affect_frequencies)"
   ]
  }
 ],
 "metadata": {
  "kernelspec": {
   "display_name": "Python 3 (ipykernel)",
   "language": "python",
   "name": "python3"
  },
  "language_info": {
   "codemirror_mode": {
    "name": "ipython",
    "version": 3
   },
   "file_extension": ".py",
   "mimetype": "text/x-python",
   "name": "python",
   "nbconvert_exporter": "python",
   "pygments_lexer": "ipython3",
   "version": "3.8.8"
  }
 },
 "nbformat": 4,
 "nbformat_minor": 5
}
